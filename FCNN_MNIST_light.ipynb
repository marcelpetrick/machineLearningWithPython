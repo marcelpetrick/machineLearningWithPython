{
 "cells": [
  {
   "cell_type": "markdown",
   "metadata": {},
   "source": [
    "## Standard (Fully Connected) Neural Network\n",
    "This code demonstrates use of fully connected networks, for the problem of handwritten digit classification. The dataset used is called MNIST. This notebook is a slightly modified version of the notebook provided at https://github.com/husnainfareed/MNIST-Handwritten-Digit-Recognition \n"
   ]
  },
  {
   "cell_type": "markdown",
   "metadata": {},
   "source": [
    "#### Loading Required packages and Data"
   ]
  },
  {
   "cell_type": "code",
   "execution_count": 1,
   "metadata": {},
   "outputs": [
    {
     "name": "stderr",
     "output_type": "stream",
     "text": [
      "Using TensorFlow backend.\n"
     ]
    }
   ],
   "source": [
    "###1. Load Data and Splot Data\n",
    "import numpy as np\n",
    "from keras.datasets import mnist\n",
    "from keras.models import Sequential \n",
    "from keras.layers.core import Dense, Activation\n",
    "from keras.utils import np_utils\n",
    "(X_train, Y_train), (X_test, Y_test) = mnist.load_data()"
   ]
  },
  {
   "cell_type": "code",
   "execution_count": 11,
   "metadata": {},
   "outputs": [
    {
     "name": "stdout",
     "output_type": "stream",
     "text": [
      "(60000, 784)\n"
     ]
    },
    {
     "data": {
      "text/plain": [
       "(10000, 10)"
      ]
     },
     "execution_count": 11,
     "metadata": {},
     "output_type": "execute_result"
    }
   ],
   "source": [
    "X_train.shape # wow, 60k testdaten!\n",
    "np.unique(Y_test) # 10 unterschiedliche werte; klar .. 0..9\n",
    "print(X_train.shape)\n",
    "np.shape(Y_test)"
   ]
  },
  {
   "cell_type": "markdown",
   "metadata": {},
   "source": [
    "#### Preprocessing"
   ]
  },
  {
   "cell_type": "code",
   "execution_count": 3,
   "metadata": {},
   "outputs": [
    {
     "data": {
      "image/png": "[encoded data removed]",
      "text/plain": [
       "<Figure size 1440x288 with 10 Axes>"
      ]
     },
     "metadata": {
      "needs_background": "light"
     },
     "output_type": "display_data"
    }
   ],
   "source": [
    "import matplotlib.pyplot as plt\n",
    "%matplotlib inline\n",
    "n = 10  # how many digits we will display\n",
    "plt.figure(figsize=(20, 4))\n",
    "for i in range(n):\n",
    "    # display original\n",
    "    ax = plt.subplot(1, n, i + 1)\n",
    "    plt.imshow(X_test[i].reshape(28, 28))\n",
    "    plt.gray()\n",
    "    ax.get_xaxis().set_visible(False)\n",
    "    ax.get_yaxis().set_visible(False)\n",
    "plt.show()\n",
    "plt.close()"
   ]
  },
  {
   "cell_type": "code",
   "execution_count": 4,
   "metadata": {},
   "outputs": [
    {
     "name": "stdout",
     "output_type": "stream",
     "text": [
      "Previous X_train shape: (60000, 28, 28) \n",
      "Previous Y_train shape:(60000,)\n",
      "New X_train shape: (60000, 784) \n",
      "New Y_train shape:(60000, 10)\n"
     ]
    }
   ],
   "source": [
    "print(\"Previous X_train shape: {} \\nPrevious Y_train shape:{}\".format(X_train.shape, Y_train.shape))\n",
    "X_train = X_train.reshape(60000, 784)     \n",
    "X_test = X_test.reshape(10000, 784)\n",
    "X_train = X_train.astype('float32')     \n",
    "X_test = X_test.astype('float32')     \n",
    "X_train /= 255    \n",
    "X_test /= 255\n",
    "classes = 10\n",
    "Y_train = np_utils.to_categorical(Y_train, classes)     \n",
    "Y_test = np_utils.to_categorical(Y_test, classes)\n",
    "print(\"New X_train shape: {} \\nNew Y_train shape:{}\".format(X_train.shape, Y_train.shape))"
   ]
  },
  {
   "cell_type": "markdown",
   "metadata": {},
   "source": [
    "#### Setting up parameters"
   ]
  },
  {
   "cell_type": "code",
   "execution_count": 5,
   "metadata": {},
   "outputs": [],
   "source": [
    "input_size = 784\n",
    "batch_size = 200   \n",
    "# two hidden layers\n",
    "hidden1 = 400\n",
    "hidden2 = 20\n",
    "# output layers? 10, weil 10 klassen"
   ]
  },
  {
   "cell_type": "markdown",
   "metadata": {},
   "source": [
    "#### Building the FCN Model"
   ]
  },
  {
   "cell_type": "code",
   "execution_count": 6,
   "metadata": {
    "scrolled": true
   },
   "outputs": [
    {
     "name": "stderr",
     "output_type": "stream",
     "text": [
      "WARNING: Logging before flag parsing goes to stderr.\n",
      "W0711 18:48:59.493819  1912 deprecation_wrapper.py:119] From c:\\users\\kurs\\appdata\\local\\programs\\python\\python36\\lib\\site-packages\\keras\\backend\\tensorflow_backend.py:74: The name tf.get_default_graph is deprecated. Please use tf.compat.v1.get_default_graph instead.\n",
      "\n",
      "W0711 18:48:59.751713  1912 deprecation_wrapper.py:119] From c:\\users\\kurs\\appdata\\local\\programs\\python\\python36\\lib\\site-packages\\keras\\backend\\tensorflow_backend.py:517: The name tf.placeholder is deprecated. Please use tf.compat.v1.placeholder instead.\n",
      "\n",
      "W0711 18:48:59.804540  1912 deprecation_wrapper.py:119] From c:\\users\\kurs\\appdata\\local\\programs\\python\\python36\\lib\\site-packages\\keras\\backend\\tensorflow_backend.py:4138: The name tf.random_uniform is deprecated. Please use tf.random.uniform instead.\n",
      "\n",
      "W0711 18:48:59.925462  1912 deprecation_wrapper.py:119] From c:\\users\\kurs\\appdata\\local\\programs\\python\\python36\\lib\\site-packages\\keras\\optimizers.py:790: The name tf.train.Optimizer is deprecated. Please use tf.compat.v1.train.Optimizer instead.\n",
      "\n",
      "W0711 18:48:59.946447  1912 deprecation_wrapper.py:119] From c:\\users\\kurs\\appdata\\local\\programs\\python\\python36\\lib\\site-packages\\keras\\backend\\tensorflow_backend.py:3295: The name tf.log is deprecated. Please use tf.math.log instead.\n",
      "\n"
     ]
    },
    {
     "name": "stdout",
     "output_type": "stream",
     "text": [
      "_________________________________________________________________\n",
      "Layer (type)                 Output Shape              Param #   \n",
      "=================================================================\n",
      "dense_1 (Dense)              (None, 400)               314000    \n",
      "_________________________________________________________________\n",
      "dense_2 (Dense)              (None, 20)                8020      \n",
      "_________________________________________________________________\n",
      "dense_3 (Dense)              (None, 10)                210       \n",
      "=================================================================\n",
      "Total params: 322,230\n",
      "Trainable params: 322,230\n",
      "Non-trainable params: 0\n",
      "_________________________________________________________________\n"
     ]
    }
   ],
   "source": [
    "###4.Build the model\n",
    "model = Sequential()     \n",
    "model.add(Dense(hidden1, input_dim=input_size, activation='relu'))\n",
    "# output = relu (dot (W, input) + bias)\n",
    "model.add(Dense(hidden2, activation='relu'))\n",
    "model.add(Dense(classes, activation='softmax')) \n",
    "\n",
    "# Compilation\n",
    "model.compile(loss='categorical_crossentropy', \n",
    "    metrics=['accuracy'], optimizer='sgd')\n",
    "model.summary()"
   ]
  },
  {
   "cell_type": "markdown",
   "metadata": {},
   "source": [
    "#### Training The Model"
   ]
  },
  {
   "cell_type": "code",
   "execution_count": 18,
   "metadata": {
    "scrolled": true
   },
   "outputs": [
    {
     "name": "stdout",
     "output_type": "stream",
     "text": [
      "Epoch 1/10\n",
      " - 2s - loss: 0.0661 - acc: 0.9820\n",
      "Epoch 2/10\n",
      " - 2s - loss: 0.0653 - acc: 0.9823\n",
      "Epoch 3/10\n",
      " - 2s - loss: 0.0644 - acc: 0.9825\n",
      "Epoch 4/10\n",
      " - 2s - loss: 0.0636 - acc: 0.9830\n",
      "Epoch 5/10\n",
      " - 2s - loss: 0.0628 - acc: 0.9830\n",
      "Epoch 6/10\n",
      " - 2s - loss: 0.0620 - acc: 0.9832\n",
      "Epoch 7/10\n",
      " - 2s - loss: 0.0612 - acc: 0.9838\n",
      "Epoch 8/10\n",
      " - 2s - loss: 0.0604 - acc: 0.9838\n",
      "Epoch 9/10\n",
      " - 2s - loss: 0.0596 - acc: 0.9843\n",
      "Epoch 10/10\n",
      " - 2s - loss: 0.0589 - acc: 0.9843\n"
     ]
    }
   ],
   "source": [
    "# Fitting on Data\n",
    "# epoch is: wenn das neural network einmal den gesamten datensatz gesehen hat\n",
    "history = model.fit(X_train, Y_train, batch_size=batch_size, epochs=10, verbose=2)"
   ]
  },
  {
   "cell_type": "markdown",
   "metadata": {
    "collapsed": true
   },
   "source": [
    "#### Testing The Model"
   ]
  },
  {
   "cell_type": "code",
   "execution_count": null,
   "metadata": {},
   "outputs": [
    {
     "name": "stdout",
     "output_type": "stream",
     "text": [
      "10000/10000 [==============================] - 0s 22us/step\n",
      "\n",
      "Test accuracy: 0.9746\n",
      "[0 6 9 0 1 5 9 7 3 4]\n"
     ]
    }
   ],
   "source": [
    "###5.Test \n",
    "score = model.evaluate(X_test, Y_test, verbose=1)\n",
    "print('\\n''Test accuracy:', score[1])\n",
    "mask = range(10,20)\n",
    "X_valid = X_test[mask]\n",
    "y_pred = model.predict_classes(X_valid)\n",
    "print(y_pred)\n",
    "plt.figure(figsize=(20, 4))\n",
    "for i in range(n):\n",
    "    # display original\n",
    "    ax = plt.subplot(2, n, i + 1)\n",
    "    plt.imshow(X_valid[i].reshape(28, 28))\n",
    "    plt.gray()\n",
    "    ax.get_xaxis().set_visible(True)\n",
    "    ax.get_yaxis().set_visible(True)\n",
    "plt.show()\n",
    "plt.close()"
   ]
  }
 ],
 "metadata": {
  "kernelspec": {
   "display_name": "Python 3",
   "language": "python",
   "name": "python3"
  },
  "language_info": {
   "codemirror_mode": {
    "name": "ipython",
    "version": 3
   },
   "file_extension": ".py",
   "mimetype": "text/x-python",
   "name": "python",
   "nbconvert_exporter": "python",
   "pygments_lexer": "ipython3",
   "version": "3.6.8"
  }
 },
 "nbformat": 4,
 "nbformat_minor": 2
}
